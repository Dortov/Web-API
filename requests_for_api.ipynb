{
 "cells": [
  {
   "cell_type": "code",
   "execution_count": 29,
   "metadata": {},
   "outputs": [],
   "source": [
    "import requests\n",
    "from flask import Flask, jsonify, request"
   ]
  },
  {
   "cell_type": "code",
   "execution_count": null,
   "metadata": {},
   "outputs": [],
   "source": []
  },
  {
   "cell_type": "code",
   "execution_count": 73,
   "metadata": {},
   "outputs": [],
   "source": [
    "tests = [\n",
    "   {'data': {'lesson': [1594663200, 1594666800],\n",
    "             'pupil': [1594663340, 1594663389, 1594663390, 1594663395, 1594663396, 1594666472],\n",
    "             'tutor': [1594663290, 1594663430, 1594663443, 1594666473]},\n",
    "    'answer': 3119\n",
    "    },\n",
    "   {'data': {'lesson': [1594702800, 1594706400],\n",
    "             'pupil': [1594702789, 1594704500, 1594702807, 1594704542, 1594704512, 1594704513, 1594704564, 1594705150, 1594704581, 1594704582, 1594704734, 1594705009, 1594705095, 1594705096, 1594705106, 1594706480, 1594705158, 1594705773, 1594705849, 1594706480, 1594706500, 1594706875, 1594706502, 1594706503, 1594706524, 1594706524, 1594706579, 1594706641],\n",
    "             'tutor': [1594700035, 1594700364, 1594702749, 1594705148, 1594705149, 1594706463]},\n",
    "    'answer': 3577\n",
    "    },\n",
    "   {'data': {'lesson': [1594692000, 1594695600],\n",
    "             'pupil': [1594692033, 1594696347],\n",
    "             'tutor': [1594692017, 1594692066, 1594692068, 1594696341]},\n",
    "    'answer': 3565\n",
    "    },\n",
    "]"
   ]
  },
  {
   "cell_type": "code",
   "execution_count": 79,
   "metadata": {},
   "outputs": [],
   "source": [
    "response = requests.post('http://127.0.0.1:5000/get_time', json = tests)"
   ]
  },
  {
   "cell_type": "code",
   "execution_count": 80,
   "metadata": {},
   "outputs": [
    {
     "data": {
      "text/plain": [
       "'{\"1\":3119,\"2\":3577,\"3\":3565}\\n'"
      ]
     },
     "execution_count": 80,
     "metadata": {},
     "output_type": "execute_result"
    }
   ],
   "source": [
    "response.text"
   ]
  }
 ],
 "metadata": {
  "kernelspec": {
   "display_name": "Python 3",
   "language": "python",
   "name": "python3"
  },
  "language_info": {
   "codemirror_mode": {
    "name": "ipython",
    "version": 3
   },
   "file_extension": ".py",
   "mimetype": "text/x-python",
   "name": "python",
   "nbconvert_exporter": "python",
   "pygments_lexer": "ipython3",
   "version": "3.7.6"
  }
 },
 "nbformat": 4,
 "nbformat_minor": 4
}
